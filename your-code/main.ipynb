{
 "cells": [
  {
   "cell_type": "markdown",
   "metadata": {},
   "source": [
    "# Web Scraping Lab\n",
    "\n",
    "You will find in this notebook some scrapy exercises to practise your scraping skills.\n",
    "\n",
    "**Tips:**\n",
    "\n",
    "- Check the response status code for each request to ensure you have obtained the intended contennt.\n",
    "- Print the response text in each request to understand the kind of info you are getting and its format.\n",
    "- Check for patterns in the response text to extract the data/info requested in each question.\n",
    "- Visit each url and take a look at its source through Chrome DevTools. You'll need to identify the html tags, special class names etc. used for the html content you are expected to extract."
   ]
  },
  {
   "cell_type": "markdown",
   "metadata": {},
   "source": [
    "- [Requests library](http://docs.python-requests.org/en/master/#the-user-guide) documentation \n",
    "- [Beautiful Soup Doc](https://www.crummy.com/software/BeautifulSoup/bs4/doc/)\n",
    "- [Urllib](https://docs.python.org/3/library/urllib.html#module-urllib)\n",
    "- [re lib](https://docs.python.org/3/library/re.html)\n",
    "- [lxml lib](https://lxml.de/)\n",
    "- [Scrapy](https://scrapy.org/)\n",
    "- [List of HTTP status codes](https://en.wikipedia.org/wiki/List_of_HTTP_status_codes)\n",
    "- [HTML basics](http://www.simplehtmlguide.com/cheatsheet.php)\n",
    "- [CSS basics](https://www.cssbasics.com/#page_start)"
   ]
  },
  {
   "cell_type": "markdown",
   "metadata": {},
   "source": [
    "#### Below are the libraries and modules you may need. `requests`,  `BeautifulSoup` and `pandas` are imported for you. If you prefer to use additional libraries feel free to uncomment them."
   ]
  },
  {
   "cell_type": "code",
   "execution_count": 1,
   "metadata": {},
   "outputs": [],
   "source": [
    "import requests\n",
    "from bs4 import BeautifulSoup\n",
    "import pandas as pd\n",
    "# from pprint import pprint\n",
    "# from lxml import html\n",
    "# from lxml.html import fromstring\n",
    "# import urllib.request\n",
    "from urllib.request import urlopen\n",
    "# import random\n",
    "import re\n",
    "# import scrapy"
   ]
  },
  {
   "cell_type": "markdown",
   "metadata": {},
   "source": [
    "#### Download, parse (using BeautifulSoup), and print the content from the Trending Developers page from GitHub:"
   ]
  },
  {
   "cell_type": "code",
   "execution_count": 2,
   "metadata": {},
   "outputs": [],
   "source": [
    "# This is the url you will scrape in this exercise\n",
    "url = 'https://github.com/trending/developers'"
   ]
  },
  {
   "cell_type": "code",
   "execution_count": 4,
   "metadata": {},
   "outputs": [],
   "source": [
    "response = requests.get(url)\n",
    "soup = BeautifulSoup(response.content,\"html.parser\")"
   ]
  },
  {
   "cell_type": "markdown",
   "metadata": {},
   "source": [
    "#### Display the names of the trending developers retrieved in the previous step.\n",
    "\n",
    "Your output should be a Python list of developer names. Each name should not contain any html tag.\n",
    "\n",
    "**Instructions:**\n",
    "\n",
    "1. Find out the html tag and class names used for the developer names. You can achieve this using Chrome DevTools.\n",
    "\n",
    "1. Use BeautifulSoup to extract all the html elements that contain the developer names.\n",
    "\n",
    "1. Use string manipulation techniques to replace whitespaces and linebreaks (i.e. `\\n`) in the *text* of each html element. Use a list to store the clean names.\n",
    "\n",
    "1. Print the list of names.\n",
    "\n",
    "Your output should look like below:\n",
    "\n",
    "```\n",
    "['trimstray (@trimstray)',\n",
    " 'joewalnes (JoeWalnes)',\n",
    " 'charlax (Charles-AxelDein)',\n",
    " 'ForrestKnight (ForrestKnight)',\n",
    " 'revery-ui (revery-ui)',\n",
    " 'alibaba (Alibaba)',\n",
    " 'Microsoft (Microsoft)',\n",
    " 'github (GitHub)',\n",
    " 'facebook (Facebook)',\n",
    " 'boazsegev (Bo)',\n",
    " 'google (Google)',\n",
    " 'cloudfetch',\n",
    " 'sindresorhus (SindreSorhus)',\n",
    " 'tensorflow',\n",
    " 'apache (TheApacheSoftwareFoundation)',\n",
    " 'DevonCrawford (DevonCrawford)',\n",
    " 'ARMmbed (ArmMbed)',\n",
    " 'vuejs (vuejs)',\n",
    " 'fastai (fast.ai)',\n",
    " 'QiShaoXuan (Qi)',\n",
    " 'joelparkerhenderson (JoelParkerHenderson)',\n",
    " 'torvalds (LinusTorvalds)',\n",
    " 'CyC2018',\n",
    " 'komeiji-satori (神楽坂覚々)',\n",
    " 'script-8']\n",
    " ```"
   ]
  },
  {
   "cell_type": "code",
   "execution_count": 12,
   "metadata": {},
   "outputs": [
    {
     "data": {
      "text/plain": [
       "['Jonny Burger',\n",
       " 'Brandon',\n",
       " 'Lennart',\n",
       " 'Artur Arseniev',\n",
       " 'Remi Rousselet',\n",
       " 'Jeroen Ooms',\n",
       " 'Artem Zakharchenko',\n",
       " 'Kuitos',\n",
       " '二货机器人',\n",
       " 'Emiliano Heyns',\n",
       " 'shimat',\n",
       " 'Kristoffer Carlsson',\n",
       " 'Jérôme Laban',\n",
       " 'Jonathan Dick',\n",
       " 'Dane Mackier',\n",
       " 'Ariel Mashraki',\n",
       " 'Felix Angelov',\n",
       " 'Rikki Schulte',\n",
       " 'David Rodríguez',\n",
       " 'David Tolnay',\n",
       " 'Jason Quense',\n",
       " 'Nathan Rajlich',\n",
       " '陈帅',\n",
       " 'Arvid Norberg',\n",
       " 'David Anthoff']"
      ]
     },
     "execution_count": 12,
     "metadata": {},
     "output_type": "execute_result"
    }
   ],
   "source": [
    "nombres = soup.find_all(\"h1\", {'class':\"h3 lh-condensed\" })\n",
    "\n",
    "names = []\n",
    "for nombre in nombres:\n",
    "    names.append(nombre.getText().strip())\n",
    "names"
   ]
  },
  {
   "cell_type": "markdown",
   "metadata": {},
   "source": [
    "#### Display the trending Python repositories in GitHub\n",
    "\n",
    "The steps to solve this problem is similar to the previous one except that you need to find out the repository names instead of developer names."
   ]
  },
  {
   "cell_type": "code",
   "execution_count": 13,
   "metadata": {},
   "outputs": [],
   "source": [
    "# This is the url you will scrape in this exercise\n",
    "url = 'https://github.com/trending/python?since=daily'\n",
    "response = requests.get(url)\n",
    "soup = BeautifulSoup(response.content, 'html.parser')\n"
   ]
  },
  {
   "cell_type": "code",
   "execution_count": 34,
   "metadata": {},
   "outputs": [
    {
     "data": {
      "text/plain": [
       "['donnemartin',\n",
       " 'bee-san',\n",
       " 'geekcomputers',\n",
       " 'linkedin',\n",
       " 'PyTorchLightning',\n",
       " 'Ma-Lab-Berkeley',\n",
       " 'keras-team',\n",
       " 'lukemelas',\n",
       " 'ultralytics',\n",
       " 'willmcgugan',\n",
       " 'plctlab',\n",
       " 'PyCQA',\n",
       " 'd2l-ai',\n",
       " 'openai',\n",
       " 'microsoft',\n",
       " 'magic-wormhole',\n",
       " 'shenweichen',\n",
       " 'projectdiscovery',\n",
       " 'eriklindernoren',\n",
       " 'facebookresearch',\n",
       " 'amundsen-io',\n",
       " 'MIC-DKFZ',\n",
       " 'Project-MONAI',\n",
       " 'frappe',\n",
       " 'EleutherAI']"
      ]
     },
     "execution_count": 34,
     "metadata": {},
     "output_type": "execute_result"
    }
   ],
   "source": [
    "repos = soup.find_all('h1', {'h3 lh-condensed'})\n",
    "\n",
    "repositories = []\n",
    "for repo in repos:\n",
    "    repositories.append(repo.getText().strip())\n",
    "    \n",
    "[repo.split()[0] for repo in repositories]"
   ]
  },
  {
   "cell_type": "markdown",
   "metadata": {},
   "source": [
    "#### Display all the image links from Walt Disney wikipedia page"
   ]
  },
  {
   "cell_type": "code",
   "execution_count": 47,
   "metadata": {},
   "outputs": [],
   "source": [
    "# This is the url you will scrape in this exercise\n",
    "url = 'https://en.wikipedia.org/wiki/Walt_Disney'\n",
    "response = requests.get(url)\n",
    "soup = BeautifulSoup(response.content,'html.parser')\n"
   ]
  },
  {
   "cell_type": "code",
   "execution_count": 52,
   "metadata": {},
   "outputs": [],
   "source": [
    "images = soup.find_all('a', {'class': 'image'} )"
   ]
  },
  {
   "cell_type": "code",
   "execution_count": 56,
   "metadata": {},
   "outputs": [
    {
     "data": {
      "text/plain": [
       "['/wiki/File:Walt_Disney_1946.JPG',\n",
       " '/wiki/File:Walt_Disney_1942_signature.svg',\n",
       " '/wiki/File:Walt_Disney_envelope_ca._1921.jpg',\n",
       " '/wiki/File:Trolley_Troubles_poster.jpg',\n",
       " '/wiki/File:Steamboat-willie.jpg',\n",
       " '/wiki/File:Walt_Disney_1935.jpg',\n",
       " '/wiki/File:Walt_Disney_Snow_white_1937_trailer_screenshot_(13).jpg',\n",
       " '/wiki/File:Disney_drawing_goofy.jpg',\n",
       " '/wiki/File:DisneySchiphol1951.jpg',\n",
       " '/wiki/File:WaltDisneyplansDisneylandDec1954.jpg',\n",
       " '/wiki/File:Walt_disney_portrait_right.jpg',\n",
       " '/wiki/File:Walt_Disney_Grave.JPG',\n",
       " '/wiki/File:Roy_O._Disney_with_Company_at_Press_Conference.jpg',\n",
       " '/wiki/File:Disney_Display_Case.JPG',\n",
       " '/wiki/File:Disney1968.jpg',\n",
       " '/wiki/File:Disneyland_Resort_logo.svg',\n",
       " '/wiki/File:Animation_disc.svg',\n",
       " '/wiki/File:P_vip.svg',\n",
       " '/wiki/File:Magic_Kingdom_castle.jpg',\n",
       " '/wiki/File:Video-x-generic.svg',\n",
       " '/wiki/File:Flag_of_Los_Angeles_County,_California.svg',\n",
       " '/wiki/File:Blank_television_set.svg',\n",
       " '/wiki/File:Flag_of_the_United_States.svg']"
      ]
     },
     "execution_count": 56,
     "metadata": {},
     "output_type": "execute_result"
    }
   ],
   "source": [
    "[i.get('href')for i in images]\n",
    "\n",
    "# Aquí no sé cómo conseguir el link entero, solo se me ocurre sumarle antes www.wikip...."
   ]
  },
  {
   "cell_type": "markdown",
   "metadata": {},
   "source": [
    "#### Retrieve an arbitary Wikipedia page of \"Python\" and create a list of links on that page"
   ]
  },
  {
   "cell_type": "code",
   "execution_count": 59,
   "metadata": {},
   "outputs": [],
   "source": [
    "# This is the url you will scrape in this exercise\n",
    "url ='https://en.wikipedia.org/wiki/Python' \n",
    "response = requests.get(url)\n",
    "soup = BeautifulSoup(response.content,'html.parser')"
   ]
  },
  {
   "cell_type": "code",
   "execution_count": 76,
   "metadata": {},
   "outputs": [
    {
     "data": {
      "text/plain": [
       "[]"
      ]
     },
     "execution_count": 76,
     "metadata": {},
     "output_type": "execute_result"
    }
   ],
   "source": [
    "wiki = soup.find_all('a', {'class':\"mw-redirect\"})\n",
    "[w.get('href') for w in wiki]\n",
    "\n",
    "#<a href=\"/wiki/Pythons\" class=\"mw-redirect\" title=\"Pythons\">Pythons</a>"
   ]
  },
  {
   "cell_type": "markdown",
   "metadata": {},
   "source": [
    "#### Number of Titles that have changed in the United States Code since its last release point "
   ]
  },
  {
   "cell_type": "code",
   "execution_count": 67,
   "metadata": {},
   "outputs": [],
   "source": [
    "# This is the url you will scrape in this exercise\n",
    "url = 'http://uscode.house.gov/download/download.shtml'\n",
    "response = requests.get(url)\n",
    "soup = BeautifulSoup(response.content,'html.parser')"
   ]
  },
  {
   "cell_type": "code",
   "execution_count": 79,
   "metadata": {},
   "outputs": [],
   "source": [
    "titles = soup.find_all('div',{'class': \"usctitlechanged\"} )"
   ]
  },
  {
   "cell_type": "code",
   "execution_count": 87,
   "metadata": {},
   "outputs": [
    {
     "data": {
      "text/plain": [
       "['Title 10 - Armed Forces ٭']"
      ]
     },
     "execution_count": 87,
     "metadata": {},
     "output_type": "execute_result"
    }
   ],
   "source": [
    "[t.getText().strip() for t in titles]"
   ]
  },
  {
   "cell_type": "markdown",
   "metadata": {},
   "source": [
    "####  20 latest earthquakes info (date, time, latitude, longitude and region name) by the EMSC as a pandas dataframe"
   ]
  },
  {
   "cell_type": "code",
   "execution_count": 88,
   "metadata": {},
   "outputs": [],
   "source": [
    "# This is the url you will scrape in this exercise\n",
    "url = 'https://www.emsc-csem.org/Earthquake/'\n",
    "response = requests.get(url)\n",
    "soup = BeautifulSoup(response.content,'html.parser')"
   ]
  },
  {
   "cell_type": "code",
   "execution_count": 111,
   "metadata": {},
   "outputs": [
    {
     "data": {
      "text/plain": [
       "['21.85',\n",
       " '68.63',\n",
       " '0.12',\n",
       " '123.22',\n",
       " '2.73',\n",
       " '121.89',\n",
       " '21.35',\n",
       " '68.87',\n",
       " '13.12',\n",
       " '166.44',\n",
       " '35.49',\n",
       " '3.61',\n",
       " '19.05',\n",
       " '121.54',\n",
       " '10.66',\n",
       " '86.28',\n",
       " '19.20',\n",
       " '155.41',\n",
       " '45.30',\n",
       " '14.65',\n",
       " '17.98',\n",
       " '66.85',\n",
       " '3.27',\n",
       " '142.05',\n",
       " '38.74',\n",
       " '176.16',\n",
       " '46.26',\n",
       " '7.39',\n",
       " '51.60',\n",
       " '15.97',\n",
       " '46.84',\n",
       " '121.76',\n",
       " '35.08',\n",
       " '95.34',\n",
       " '42.48',\n",
       " '2.05',\n",
       " '6.23',\n",
       " '94.60',\n",
       " '0.77',\n",
       " '128.19',\n",
       " '36.32',\n",
       " '95.75',\n",
       " '10.12',\n",
       " '75.74',\n",
       " '11.30',\n",
       " '87.01',\n",
       " '12.80',\n",
       " '85.90',\n",
       " '7.08',\n",
       " '109.96',\n",
       " '33.87',\n",
       " '117.70',\n",
       " '19.21',\n",
       " '155.44',\n",
       " '13.88',\n",
       " '119.82',\n",
       " '8.81',\n",
       " '110.63',\n",
       " '5.54',\n",
       " '126.41',\n",
       " '13.68',\n",
       " '123.06',\n",
       " '45.51',\n",
       " '16.02',\n",
       " '2.63',\n",
       " '126.94',\n",
       " '19.55',\n",
       " '69.26',\n",
       " '34.19',\n",
       " '70.08',\n",
       " '41.65',\n",
       " '20.77',\n",
       " '0.14',\n",
       " '96.70',\n",
       " '22.24',\n",
       " '67.67',\n",
       " '48.66',\n",
       " '7.81',\n",
       " '2.97',\n",
       " '98.39',\n",
       " '36.48',\n",
       " '27.06',\n",
       " '18.93',\n",
       " '66.86',\n",
       " '2.57',\n",
       " '121.88',\n",
       " '13.95',\n",
       " '71.99',\n",
       " '23.36',\n",
       " '67.15',\n",
       " '18.55',\n",
       " '69.13',\n",
       " '6.85',\n",
       " '105.12',\n",
       " '10.08',\n",
       " '125.64',\n",
       " '37.52',\n",
       " '179.98',\n",
       " '14.69',\n",
       " '75.38']"
      ]
     },
     "execution_count": 111,
     "metadata": {},
     "output_type": "execute_result"
    }
   ],
   "source": [
    "earth = soup.find_all('td',{'class':'tabev6'})\n",
    "date = [e.getText().split()[0][10:] for e in earth]\n",
    "time = [e.getText().split()[1][:8] for e in earth]\n"
   ]
  },
  {
   "cell_type": "code",
   "execution_count": null,
   "metadata": {},
   "outputs": [],
   "source": [
    "lat = soup.find_all('td',{'class': 'tabev1'} )\n",
    "lat_long = [ll.getText().strip() for ll in lat]\n",
    "lat_long"
   ]
  },
  {
   "cell_type": "code",
   "execution_count": 114,
   "metadata": {},
   "outputs": [
    {
     "data": {
      "text/plain": [
       "['ANTOFAGASTA, CHILE',\n",
       " 'SULAWESI, INDONESIA',\n",
       " 'SULAWESI, INDONESIA',\n",
       " 'ANTOFAGASTA, CHILE',\n",
       " 'VANUATU',\n",
       " 'STRAIT OF GIBRALTAR',\n",
       " 'BABUYAN ISL REGION, PHILIPPINES',\n",
       " 'OFF COAST OF COSTA RICA',\n",
       " 'ISLAND OF HAWAII, HAWAII',\n",
       " 'CROATIA',\n",
       " 'PUERTO RICO',\n",
       " 'NEAR N COAST OF NEW GUINEA, PNG.',\n",
       " 'NORTH ISLAND OF NEW ZEALAND',\n",
       " 'SWITZERLAND',\n",
       " 'POLAND',\n",
       " 'MOUNT RAINIER AREA, WASHINGTON',\n",
       " 'OKLAHOMA',\n",
       " 'PYRENEES',\n",
       " 'NICOBAR ISLANDS, INDIA REGION',\n",
       " 'HALMAHERA, INDONESIA',\n",
       " 'OKLAHOMA',\n",
       " 'CENTRAL PERU',\n",
       " 'NEAR COAST OF NICARAGUA',\n",
       " 'NICARAGUA',\n",
       " 'JAVA, INDONESIA',\n",
       " 'GREATER LOS ANGELES AREA, CALIF.',\n",
       " 'ISLAND OF HAWAII, HAWAII',\n",
       " 'PHILIPPINE ISLANDS REGION',\n",
       " 'JAVA, INDONESIA',\n",
       " 'MINDANAO, PHILIPPINES',\n",
       " 'LUZON, PHILIPPINES',\n",
       " 'CROATIA',\n",
       " 'MOLUCCA SEA',\n",
       " 'TARAPACA, CHILE',\n",
       " 'REGION METROPOLITANA, CHILE',\n",
       " 'REPUBLIC OF NORTH MACEDONIA',\n",
       " 'NIAS REGION, INDONESIA',\n",
       " 'POTOSI, BOLIVIA',\n",
       " 'FRANCE-GERMANY BORDER REGION',\n",
       " 'NORTHERN SUMATRA, INDONESIA',\n",
       " 'DODECANESE IS.-TURKEY BORDER REG',\n",
       " 'PUERTO RICO REGION',\n",
       " 'SULAWESI, INDONESIA',\n",
       " 'CENTRAL PERU',\n",
       " 'ANTOFAGASTA, CHILE',\n",
       " 'DOMINICAN REPUBLIC',\n",
       " 'SUNDA STRAIT, INDONESIA',\n",
       " 'LEYTE, PHILIPPINES',\n",
       " 'OFF E. COAST OF N. ISLAND, N.Z.',\n",
       " 'NEAR COAST OF CENTRAL PERU']"
      ]
     },
     "execution_count": 114,
     "metadata": {},
     "output_type": "execute_result"
    }
   ],
   "source": [
    "region = soup.find_all('td', {'class': 'tb_region'})\n",
    "[r.getText().strip() for r in region]\n"
   ]
  },
  {
   "cell_type": "markdown",
   "metadata": {},
   "source": [
    "#### Display the date, days, title, city, country of next 25 hackathon events as a Pandas dataframe table"
   ]
  },
  {
   "cell_type": "code",
   "execution_count": null,
   "metadata": {},
   "outputs": [],
   "source": [
    "# This is the url you will scrape in this exercise\n",
    "url ='https://hackevents.co/hackathons'\n",
    "url_hack = 'https://hackevents.co/search/anything/anywhere/anytime' "
   ]
  },
  {
   "cell_type": "code",
   "execution_count": null,
   "metadata": {},
   "outputs": [],
   "source": []
  },
  {
   "cell_type": "code",
   "execution_count": null,
   "metadata": {},
   "outputs": [],
   "source": []
  },
  {
   "cell_type": "markdown",
   "metadata": {},
   "source": [
    "#### List all language names and number of related articles in the order they appear in wikipedia.org"
   ]
  },
  {
   "cell_type": "code",
   "execution_count": 115,
   "metadata": {},
   "outputs": [],
   "source": [
    "# This is the url you will scrape in this exercise\n",
    "url = 'https://www.wikipedia.org/'\n",
    "response = requests.get(url)\n",
    "soup = BeautifulSoup(response.content, 'html.parser')"
   ]
  },
  {
   "cell_type": "code",
   "execution_count": 124,
   "metadata": {},
   "outputs": [
    {
     "data": {
      "text/plain": [
       "['English',\n",
       " '日本語',\n",
       " 'Español',\n",
       " 'Deutsch',\n",
       " 'Русский',\n",
       " 'Français',\n",
       " 'Italiano',\n",
       " '中文',\n",
       " 'Português',\n",
       " 'Polski']"
      ]
     },
     "execution_count": 124,
     "metadata": {},
     "output_type": "execute_result"
    }
   ],
   "source": [
    "languages = soup.find_all('div',{'class':\"central-featured-lang\"} )\n",
    "[l.getText().split()[0] for l in languages]\n"
   ]
  },
  {
   "cell_type": "code",
   "execution_count": null,
   "metadata": {},
   "outputs": [],
   "source": []
  },
  {
   "cell_type": "markdown",
   "metadata": {},
   "source": [
    "#### A list with the different kind of datasets available in data.gov.uk "
   ]
  },
  {
   "cell_type": "code",
   "execution_count": 125,
   "metadata": {},
   "outputs": [],
   "source": [
    "# This is the url you will scrape in this exercise\n",
    "url = 'https://data.gov.uk/'\n",
    "response = requests.get(url)\n",
    "soup = BeautifulSoup(response.content, 'html.parser')"
   ]
  },
  {
   "cell_type": "code",
   "execution_count": 129,
   "metadata": {},
   "outputs": [
    {
     "data": {
      "text/plain": [
       "['Business and economy',\n",
       " 'Crime and justice',\n",
       " 'Defence',\n",
       " 'Education',\n",
       " 'Environment',\n",
       " 'Government',\n",
       " 'Government spending',\n",
       " 'Health',\n",
       " 'Mapping',\n",
       " 'Society',\n",
       " 'Towns and cities',\n",
       " 'Transport',\n",
       " 'Digital service performance',\n",
       " 'Government reference data']"
      ]
     },
     "execution_count": 129,
     "metadata": {},
     "output_type": "execute_result"
    }
   ],
   "source": [
    "data = soup.find_all('h3', {'class': 'govuk-heading-s dgu-topics__heading'})\n",
    "[d.getText() for d in data]"
   ]
  },
  {
   "cell_type": "code",
   "execution_count": null,
   "metadata": {},
   "outputs": [],
   "source": []
  },
  {
   "cell_type": "markdown",
   "metadata": {},
   "source": [
    "#### Top 10 languages by number of native speakers stored in a Pandas Dataframe"
   ]
  },
  {
   "cell_type": "code",
   "execution_count": null,
   "metadata": {},
   "outputs": [],
   "source": [
    "# This is the url you will scrape in this exercise\n",
    "url = 'https://en.wikipedia.org/wiki/List_of_languages_by_number_of_native_speakers'"
   ]
  },
  {
   "cell_type": "code",
   "execution_count": null,
   "metadata": {},
   "outputs": [],
   "source": [
    "#your code\n"
   ]
  },
  {
   "cell_type": "code",
   "execution_count": null,
   "metadata": {},
   "outputs": [],
   "source": []
  },
  {
   "cell_type": "markdown",
   "metadata": {},
   "source": [
    "### BONUS QUESTIONS"
   ]
  },
  {
   "cell_type": "markdown",
   "metadata": {},
   "source": [
    "#### IMDB's Top 250 data (movie name, Initial release, director name and stars) as a pandas dataframe"
   ]
  },
  {
   "cell_type": "code",
   "execution_count": null,
   "metadata": {},
   "outputs": [],
   "source": [
    "# This is the url you will scrape in this exercise \n",
    "url = 'https://www.imdb.com/chart/top'"
   ]
  },
  {
   "cell_type": "code",
   "execution_count": null,
   "metadata": {},
   "outputs": [],
   "source": [
    "# your code\n"
   ]
  },
  {
   "cell_type": "code",
   "execution_count": null,
   "metadata": {},
   "outputs": [],
   "source": []
  },
  {
   "cell_type": "code",
   "execution_count": null,
   "metadata": {},
   "outputs": [],
   "source": []
  }
 ],
 "metadata": {
  "kernelspec": {
   "display_name": "Python 3",
   "language": "python",
   "name": "python3"
  },
  "language_info": {
   "codemirror_mode": {
    "name": "ipython",
    "version": 3
   },
   "file_extension": ".py",
   "mimetype": "text/x-python",
   "name": "python",
   "nbconvert_exporter": "python",
   "pygments_lexer": "ipython3",
   "version": "3.8.2"
  },
  "toc": {
   "base_numbering": 1,
   "nav_menu": {},
   "number_sections": false,
   "sideBar": true,
   "skip_h1_title": false,
   "title_cell": "Table of Contents",
   "title_sidebar": "Contents",
   "toc_cell": false,
   "toc_position": {
    "height": "calc(100% - 180px)",
    "left": "10px",
    "top": "150px",
    "width": "288px"
   },
   "toc_section_display": true,
   "toc_window_display": false
  }
 },
 "nbformat": 4,
 "nbformat_minor": 2
}
